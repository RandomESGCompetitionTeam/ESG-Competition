{
 "cells": [
  {
   "cell_type": "code",
   "execution_count": 1,
   "metadata": {},
   "outputs": [],
   "source": [
    "import re\n",
    "import pandas as pd\n",
    "pd.set_option('display.max_columns', None)\n",
    "import numpy as np\n",
    "from scipy.spatial import distance\n",
    "from sklearn.preprocessing import StandardScaler, MaxAbsScaler, MinMaxScaler\n",
    "from math import log\n",
    "\n",
    "import matplotlib.pyplot as plt\n",
    "import datetime\n",
    "from dateutil.relativedelta import relativedelta\n",
    "\n",
    "\n",
    "from PyPDF2 import PdfFileWriter, PdfFileReader\n",
    "from bs4 import BeautifulSoup"
   ]
  },
  {
   "cell_type": "markdown",
   "metadata": {},
   "source": [
    "Run on local machine"
   ]
  },
  {
   "cell_type": "code",
   "execution_count": 2,
   "metadata": {},
   "outputs": [],
   "source": [
    "#local\n",
    "import glob\n",
    "from wikipedia import wikipedia_awards\n",
    "from utils import drop_based_on_occurance"
   ]
  },
  {
   "cell_type": "markdown",
   "metadata": {},
   "source": [
    "Run on eikon codebook"
   ]
  },
  {
   "cell_type": "code",
   "execution_count": 118,
   "metadata": {
    "collapsed": true,
    "jupyter": {
     "outputs_hidden": true
    },
    "tags": []
   },
   "outputs": [
    {
     "name": "stderr",
     "output_type": "stream",
     "text": [
      "2021-05-13 15:38:13,074 P[29288] [MainThread 140052970010432] Error: no proxy address identified.\n",
      "Check if Eikon Desktop or Eikon API Proxy is running.\n",
      "2021-05-13 15:38:13,078 P[29288] [MainThread 140052970010432] Port number was not identified, cannot send any request\n",
      "2021-05-13 15:38:13,080 P[29288] [MainThread 140052970010432] Port number was not identified.\n",
      "Check if Eikon Desktop or Eikon API Proxy is running.\n"
     ]
    },
    {
     "ename": "EikonError",
     "evalue": "Error code -1 | Port number was not identified. Check if Eikon Desktop or Eikon API Proxy is running.",
     "output_type": "error",
     "traceback": [
      "\u001b[0;31m---------------------------------------------------------------------------\u001b[0m",
      "\u001b[0;31mEikonError\u001b[0m                                Traceback (most recent call last)",
      "\u001b[0;32m<ipython-input-118-4b94927fc03d>\u001b[0m in \u001b[0;36m<module>\u001b[0;34m\u001b[0m\n\u001b[1;32m      1\u001b[0m \u001b[0;31m#eikon\u001b[0m\u001b[0;34m\u001b[0m\u001b[0;34m\u001b[0m\u001b[0;34m\u001b[0m\u001b[0m\n\u001b[1;32m      2\u001b[0m \u001b[0;32mimport\u001b[0m \u001b[0meikon\u001b[0m \u001b[0;32mas\u001b[0m \u001b[0mek\u001b[0m\u001b[0;34m\u001b[0m\u001b[0;34m\u001b[0m\u001b[0m\n\u001b[0;32m----> 3\u001b[0;31m \u001b[0mek\u001b[0m\u001b[0;34m.\u001b[0m\u001b[0mset_app_key\u001b[0m\u001b[0;34m(\u001b[0m\u001b[0;34m'DEFAULT_CODE_BOOK_APP_KEY'\u001b[0m\u001b[0;34m)\u001b[0m\u001b[0;34m\u001b[0m\u001b[0;34m\u001b[0m\u001b[0m\n\u001b[0m",
      "\u001b[0;32m~/Documents/envs/esg_ai/lib/python3.9/site-packages/eikon/Profile.py\u001b[0m in \u001b[0;36mset_app_key\u001b[0;34m(app_key)\u001b[0m\n\u001b[1;32m     31\u001b[0m     \u001b[0mYou\u001b[0m \u001b[0mcan\u001b[0m \u001b[0mget\u001b[0m \u001b[0man\u001b[0m \u001b[0mapp\u001b[0m \u001b[0mkey\u001b[0m \u001b[0musing\u001b[0m \u001b[0mthe\u001b[0m \u001b[0mApp\u001b[0m \u001b[0mKey\u001b[0m \u001b[0mGenerator\u001b[0m \u001b[0;34m(\u001b[0m\u001b[0mthis\u001b[0m \u001b[0mApp\u001b[0m \u001b[0;32mis\u001b[0m \u001b[0mavailable\u001b[0m \u001b[0;32min\u001b[0m \u001b[0mEikon\u001b[0m \u001b[0mDesktop\u001b[0m\u001b[0;34m)\u001b[0m\u001b[0;34m.\u001b[0m\u001b[0;34m\u001b[0m\u001b[0;34m\u001b[0m\u001b[0m\n\u001b[1;32m     32\u001b[0m     \"\"\"\n\u001b[0;32m---> 33\u001b[0;31m     \u001b[0mget_profile\u001b[0m\u001b[0;34m(\u001b[0m\u001b[0;34m)\u001b[0m\u001b[0;34m.\u001b[0m\u001b[0mset_app_key\u001b[0m\u001b[0;34m(\u001b[0m\u001b[0mapp_key\u001b[0m\u001b[0;34m)\u001b[0m\u001b[0;34m\u001b[0m\u001b[0;34m\u001b[0m\u001b[0m\n\u001b[0m\u001b[1;32m     34\u001b[0m \u001b[0;34m\u001b[0m\u001b[0m\n\u001b[1;32m     35\u001b[0m \u001b[0;34m\u001b[0m\u001b[0m\n",
      "\u001b[0;32m~/Documents/envs/esg_ai/lib/python3.9/site-packages/eikon/Profile.py\u001b[0m in \u001b[0;36mset_app_key\u001b[0;34m(self, app_key)\u001b[0m\n\u001b[1;32m    229\u001b[0m             \u001b[0mself\u001b[0m\u001b[0;34m.\u001b[0m\u001b[0mlogger\u001b[0m \u001b[0;34m=\u001b[0m \u001b[0mself\u001b[0m\u001b[0;34m.\u001b[0m\u001b[0m_desktop_session\u001b[0m\u001b[0;34m.\u001b[0m\u001b[0mlogger\u001b[0m\u001b[0;34m(\u001b[0m\u001b[0;34m)\u001b[0m\u001b[0;34m\u001b[0m\u001b[0;34m\u001b[0m\u001b[0m\n\u001b[1;32m    230\u001b[0m             \u001b[0mself\u001b[0m\u001b[0;34m.\u001b[0m\u001b[0mlogger\u001b[0m\u001b[0;34m.\u001b[0m\u001b[0mdebug\u001b[0m\u001b[0;34m(\u001b[0m\u001b[0;34m'Init a Desktop session with new app_key'\u001b[0m\u001b[0;34m)\u001b[0m\u001b[0;34m\u001b[0m\u001b[0;34m\u001b[0m\u001b[0m\n\u001b[0;32m--> 231\u001b[0;31m             \u001b[0mself\u001b[0m\u001b[0;34m.\u001b[0m\u001b[0mcheck_profile\u001b[0m\u001b[0;34m(\u001b[0m\u001b[0;34m)\u001b[0m\u001b[0;34m\u001b[0m\u001b[0;34m\u001b[0m\u001b[0m\n\u001b[0m\u001b[1;32m    232\u001b[0m \u001b[0;34m\u001b[0m\u001b[0m\n\u001b[1;32m    233\u001b[0m     \u001b[0;32mdef\u001b[0m \u001b[0mset_on_state_callback\u001b[0m\u001b[0;34m(\u001b[0m\u001b[0mself\u001b[0m\u001b[0;34m,\u001b[0m \u001b[0mon_state\u001b[0m\u001b[0;34m)\u001b[0m\u001b[0;34m:\u001b[0m\u001b[0;34m\u001b[0m\u001b[0;34m\u001b[0m\u001b[0m\n",
      "\u001b[0;32m~/Documents/envs/esg_ai/lib/python3.9/site-packages/eikon/Profile.py\u001b[0m in \u001b[0;36mcheck_profile\u001b[0;34m(self)\u001b[0m\n\u001b[1;32m    352\u001b[0m             \u001b[0;31m# port number wasn't identified => raise EikonError exception\u001b[0m\u001b[0;34m\u001b[0m\u001b[0;34m\u001b[0m\u001b[0;34m\u001b[0m\u001b[0m\n\u001b[1;32m    353\u001b[0m             \u001b[0mself\u001b[0m\u001b[0;34m.\u001b[0m\u001b[0mlogger\u001b[0m\u001b[0;34m.\u001b[0m\u001b[0merror\u001b[0m\u001b[0;34m(\u001b[0m\u001b[0;34m'Port number was not identified.\\nCheck if Eikon Desktop or Eikon API Proxy is running.'\u001b[0m\u001b[0;34m)\u001b[0m\u001b[0;34m\u001b[0m\u001b[0;34m\u001b[0m\u001b[0m\n\u001b[0;32m--> 354\u001b[0;31m             \u001b[0;32mraise\u001b[0m \u001b[0mEikonError\u001b[0m\u001b[0;34m(\u001b[0m\u001b[0;34m-\u001b[0m\u001b[0;36m1\u001b[0m\u001b[0;34m,\u001b[0m \u001b[0;34m'Port number was not identified. Check if Eikon Desktop or Eikon API Proxy is running.'\u001b[0m\u001b[0;34m)\u001b[0m\u001b[0;34m\u001b[0m\u001b[0;34m\u001b[0m\u001b[0m\n\u001b[0m\u001b[1;32m    355\u001b[0m \u001b[0;34m\u001b[0m\u001b[0m\n\u001b[1;32m    356\u001b[0m     \u001b[0;32mdef\u001b[0m \u001b[0msend_request\u001b[0m\u001b[0;34m(\u001b[0m\u001b[0mself\u001b[0m\u001b[0;34m,\u001b[0m \u001b[0mjson\u001b[0m\u001b[0;34m,\u001b[0m \u001b[0mtimeout\u001b[0m\u001b[0;34m=\u001b[0m\u001b[0;32mNone\u001b[0m\u001b[0;34m)\u001b[0m\u001b[0;34m:\u001b[0m\u001b[0;34m\u001b[0m\u001b[0;34m\u001b[0m\u001b[0m\n",
      "\u001b[0;31mEikonError\u001b[0m: Error code -1 | Port number was not identified. Check if Eikon Desktop or Eikon API Proxy is running."
     ]
    }
   ],
   "source": [
    "#eikon\n",
    "import eikon as ek\n",
    "ek.set_app_key('DEFAULT_CODE_BOOK_APP_KEY')"
   ]
  },
  {
   "cell_type": "markdown",
   "metadata": {},
   "source": [
    "# Ideas\n",
    "* do it with [intrinio](https://docs.intrinio.com/documentation/python/get_all_company_news_v2) [intrinio2](https://docs.intrinio.com/documentation/python/get_company_news_v2)\n",
    "* do it with [yahoo](https://medium.com/@jamesbowden/extracting-esg-data-from-yahoo-finance-using-python-4834bc8db570) [yahoo2](https://rapidapi.com/apidojo/api/yahoo-finance1) [yahoo3](https://pypi.org/project/yfinance/)\n",
    "* do these above also have esg scores?"
   ]
  },
  {
   "cell_type": "markdown",
   "metadata": {},
   "source": [
    "# POC"
   ]
  },
  {
   "cell_type": "markdown",
   "metadata": {},
   "source": [
    "1. Indexing and precomputed ESG scores\n",
    "2. Blacklisting\n",
    "3. PanamaPapers\n",
    "4. Salaries\n",
    "5. Awards\n",
    "    * Select environmental, social, governmental awards???\n",
    "    * Measure the sentiment attributed to particular news."
   ]
  },
  {
   "cell_type": "markdown",
   "metadata": {},
   "source": [
    "## Year selection"
   ]
  },
  {
   "cell_type": "code",
   "execution_count": 3,
   "metadata": {},
   "outputs": [],
   "source": [
    "lower_boundary_date = \"2020-01-01\"\n",
    "upper_boundary_date = \"2021-01-01\""
   ]
  },
  {
   "cell_type": "markdown",
   "metadata": {},
   "source": [
    "# Indexing"
   ]
  },
  {
   "cell_type": "code",
   "execution_count": 4,
   "metadata": {},
   "outputs": [
    {
     "data": {
      "text/html": [
       "<div>\n",
       "<style scoped>\n",
       "    .dataframe tbody tr th:only-of-type {\n",
       "        vertical-align: middle;\n",
       "    }\n",
       "\n",
       "    .dataframe tbody tr th {\n",
       "        vertical-align: top;\n",
       "    }\n",
       "\n",
       "    .dataframe thead th {\n",
       "        text-align: right;\n",
       "    }\n",
       "</style>\n",
       "<table border=\"1\" class=\"dataframe\">\n",
       "  <thead>\n",
       "    <tr style=\"text-align: right;\">\n",
       "      <th></th>\n",
       "      <th>MIC</th>\n",
       "      <th>Name</th>\n",
       "    </tr>\n",
       "  </thead>\n",
       "  <tbody>\n",
       "    <tr>\n",
       "      <th>0</th>\n",
       "      <td>ARCX</td>\n",
       "      <td>New York Stock Exchange Archipelago</td>\n",
       "    </tr>\n",
       "    <tr>\n",
       "      <th>1</th>\n",
       "      <td>FMTS</td>\n",
       "      <td>MTS France SAS</td>\n",
       "    </tr>\n",
       "  </tbody>\n",
       "</table>\n",
       "</div>"
      ],
      "text/plain": [
       "    MIC                                 Name\n",
       "0  ARCX  New York Stock Exchange Archipelago\n",
       "1  FMTS                       MTS France SAS"
      ]
     },
     "execution_count": 4,
     "metadata": {},
     "output_type": "execute_result"
    }
   ],
   "source": [
    "stock_exchanges = pd.read_excel(\"../data/scrapped_data.xlsx\", sheet_name=\"exchanges\", usecols=[0,1])\n",
    "\n",
    "stock_exchanges.head(2)"
   ]
  },
  {
   "cell_type": "code",
   "execution_count": 5,
   "metadata": {},
   "outputs": [],
   "source": [
    "mics = stock_exchanges[\"MIC\"].apply(lambda x: f\"'{x}'\")\n",
    "mics = \",\".join(mics)"
   ]
  },
  {
   "cell_type": "code",
   "execution_count": 6,
   "metadata": {
    "tags": []
   },
   "outputs": [],
   "source": [
    "instruments = f\"\"\"SCREEN(U(IN(Equity(active,public,countryprimaryquote))),\n",
    "            IN(TR.ExchangeMarketIdCode,{mics}))\"\"\"\n",
    "\n",
    "# dates = [\"2018-01-01\", \"2019-01-01\", \"2020-01-01\"]\n",
    "# dates = [\"2020-01-01\"]\n",
    "dates = [lower_boundary_date]"
   ]
  },
  {
   "cell_type": "code",
   "execution_count": 7,
   "metadata": {},
   "outputs": [
    {
     "data": {
      "text/html": [
       "<div>\n",
       "<style scoped>\n",
       "    .dataframe tbody tr th:only-of-type {\n",
       "        vertical-align: middle;\n",
       "    }\n",
       "\n",
       "    .dataframe tbody tr th {\n",
       "        vertical-align: top;\n",
       "    }\n",
       "\n",
       "    .dataframe thead th {\n",
       "        text-align: right;\n",
       "    }\n",
       "</style>\n",
       "<table border=\"1\" class=\"dataframe\">\n",
       "  <thead>\n",
       "    <tr style=\"text-align: right;\">\n",
       "      <th></th>\n",
       "      <th>Instrument</th>\n",
       "      <th>Market Identifier Code (MIC)</th>\n",
       "      <th>Company Common Name</th>\n",
       "      <th>ESG Score</th>\n",
       "      <th>ESG Score Grade</th>\n",
       "      <th>date</th>\n",
       "    </tr>\n",
       "  </thead>\n",
       "  <tbody>\n",
       "  </tbody>\n",
       "</table>\n",
       "</div>"
      ],
      "text/plain": [
       "Empty DataFrame\n",
       "Columns: [Instrument, Market Identifier Code (MIC), Company Common Name, ESG Score, ESG Score Grade, date]\n",
       "Index: []"
      ]
     },
     "execution_count": 7,
     "metadata": {},
     "output_type": "execute_result"
    }
   ],
   "source": [
    "columns = ['Instrument', 'Market Identifier Code (MIC)', 'Company Common Name',\n",
    "       'ESG Score', 'ESG Score Grade', \"date\"]\n",
    "\n",
    "ESG_data = pd.DataFrame(columns=columns)\n",
    "ESG_data"
   ]
  },
  {
   "cell_type": "code",
   "execution_count": 9,
   "metadata": {
    "collapsed": true,
    "jupyter": {
     "outputs_hidden": true
    },
    "tags": []
   },
   "outputs": [
    {
     "ename": "NameError",
     "evalue": "name 'ek' is not defined",
     "output_type": "error",
     "traceback": [
      "\u001b[0;31m---------------------------------------------------------------------------\u001b[0m",
      "\u001b[0;31mNameError\u001b[0m                                 Traceback (most recent call last)",
      "\u001b[0;32m<ipython-input-9-bbb6f76f651a>\u001b[0m in \u001b[0;36m<module>\u001b[0;34m\u001b[0m\n\u001b[1;32m      2\u001b[0m     \u001b[0mparams\u001b[0m \u001b[0;34m=\u001b[0m \u001b[0;34m{\u001b[0m\u001b[0;34m'params'\u001b[0m\u001b[0;34m:\u001b[0m \u001b[0;34m{\u001b[0m\u001b[0;34m\"SDate\"\u001b[0m\u001b[0;34m:\u001b[0m \u001b[0mdate\u001b[0m\u001b[0;34m}\u001b[0m\u001b[0;34m}\u001b[0m\u001b[0;34m\u001b[0m\u001b[0;34m\u001b[0m\u001b[0m\n\u001b[1;32m      3\u001b[0m     \u001b[0mvariables\u001b[0m \u001b[0;34m=\u001b[0m \u001b[0;34m[\u001b[0m\u001b[0;34m\"TR.MIC\"\u001b[0m\u001b[0;34m,\u001b[0m \u001b[0;34m'TR.CommonName'\u001b[0m\u001b[0;34m,\u001b[0m \u001b[0;34m{\u001b[0m\u001b[0;34m\"TR.TRESGScore\"\u001b[0m\u001b[0;34m:\u001b[0m\u001b[0mparams\u001b[0m\u001b[0;34m}\u001b[0m\u001b[0;34m,\u001b[0m \u001b[0;34m{\u001b[0m\u001b[0;34m\"TR.TRESGScoreGrade\"\u001b[0m\u001b[0;34m:\u001b[0m\u001b[0mparams\u001b[0m\u001b[0;34m}\u001b[0m\u001b[0;34m]\u001b[0m\u001b[0;34m\u001b[0m\u001b[0;34m\u001b[0m\u001b[0m\n\u001b[0;32m----> 4\u001b[0;31m     \u001b[0mdata\u001b[0m \u001b[0;34m=\u001b[0m \u001b[0mek\u001b[0m\u001b[0;34m.\u001b[0m\u001b[0mget_data\u001b[0m\u001b[0;34m(\u001b[0m\u001b[0minstruments\u001b[0m\u001b[0;34m=\u001b[0m\u001b[0minstruments\u001b[0m\u001b[0;34m,\u001b[0m \u001b[0mfields\u001b[0m\u001b[0;34m=\u001b[0m\u001b[0mvariables\u001b[0m\u001b[0;34m)\u001b[0m\u001b[0;34m\u001b[0m\u001b[0;34m\u001b[0m\u001b[0m\n\u001b[0m\u001b[1;32m      5\u001b[0m     \u001b[0;32mif\u001b[0m \u001b[0misinstance\u001b[0m\u001b[0;34m(\u001b[0m\u001b[0mdata\u001b[0m\u001b[0;34m,\u001b[0m \u001b[0mtuple\u001b[0m\u001b[0;34m)\u001b[0m\u001b[0;34m:\u001b[0m\u001b[0;34m\u001b[0m\u001b[0;34m\u001b[0m\u001b[0m\n\u001b[1;32m      6\u001b[0m         \u001b[0mdata\u001b[0m \u001b[0;34m=\u001b[0m \u001b[0mdata\u001b[0m\u001b[0;34m[\u001b[0m\u001b[0;36m0\u001b[0m\u001b[0;34m]\u001b[0m\u001b[0;34m\u001b[0m\u001b[0;34m\u001b[0m\u001b[0m\n",
      "\u001b[0;31mNameError\u001b[0m: name 'ek' is not defined"
     ]
    }
   ],
   "source": [
    "for date in dates:\n",
    "    params = {'params': {\"SDate\": date}}\n",
    "    variables = [\"TR.MIC\", 'TR.CommonName', {\"TR.TRESGScore\":params}, {\"TR.TRESGScoreGrade\":params}]\n",
    "    data = ek.get_data(instruments=instruments, fields=variables)\n",
    "    if isinstance(data, tuple):\n",
    "        data = data[0]\n",
    "    data[\"date\"] = date\n",
    "    ESG_data = pd.concat([ESG_data, data])"
   ]
  },
  {
   "cell_type": "code",
   "execution_count": 142,
   "metadata": {},
   "outputs": [],
   "source": [
    "non_na_ESG_data = ESG_data[~ESG_data[\"ESG Score\"].isna()]"
   ]
  },
  {
   "cell_type": "code",
   "execution_count": 10,
   "metadata": {},
   "outputs": [
    {
     "data": {
      "text/html": [
       "<div>\n",
       "<style scoped>\n",
       "    .dataframe tbody tr th:only-of-type {\n",
       "        vertical-align: middle;\n",
       "    }\n",
       "\n",
       "    .dataframe tbody tr th {\n",
       "        vertical-align: top;\n",
       "    }\n",
       "\n",
       "    .dataframe thead th {\n",
       "        text-align: right;\n",
       "    }\n",
       "</style>\n",
       "<table border=\"1\" class=\"dataframe\">\n",
       "  <thead>\n",
       "    <tr style=\"text-align: right;\">\n",
       "      <th></th>\n",
       "      <th>Instrument</th>\n",
       "      <th>Market Identifier Code (MIC)</th>\n",
       "      <th>Company Common Name</th>\n",
       "      <th>ESG Score</th>\n",
       "      <th>ESG Score Grade</th>\n",
       "      <th>date</th>\n",
       "    </tr>\n",
       "  </thead>\n",
       "  <tbody>\n",
       "    <tr>\n",
       "      <th>42283</th>\n",
       "      <td>AZNPy.BE</td>\n",
       "      <td></td>\n",
       "      <td>AstraZeneca PLC</td>\n",
       "      <td>93.881462</td>\n",
       "      <td>A+</td>\n",
       "      <td>2021-01-01</td>\n",
       "    </tr>\n",
       "    <tr>\n",
       "      <th>48644</th>\n",
       "      <td>AZN.OQ</td>\n",
       "      <td></td>\n",
       "      <td>AstraZeneca PLC</td>\n",
       "      <td>93.881462</td>\n",
       "      <td>A+</td>\n",
       "      <td>2021-01-01</td>\n",
       "    </tr>\n",
       "    <tr>\n",
       "      <th>39087</th>\n",
       "      <td>AZN.L</td>\n",
       "      <td>&lt;NA&gt;</td>\n",
       "      <td>AstraZeneca PLC</td>\n",
       "      <td>93.881462</td>\n",
       "      <td>A+</td>\n",
       "      <td>2021-01-01</td>\n",
       "    </tr>\n",
       "    <tr>\n",
       "      <th>7059</th>\n",
       "      <td>AZN.S</td>\n",
       "      <td>&lt;NA&gt;</td>\n",
       "      <td>AstraZeneca PLC</td>\n",
       "      <td>93.881462</td>\n",
       "      <td>A+</td>\n",
       "      <td>2021-01-01</td>\n",
       "    </tr>\n",
       "    <tr>\n",
       "      <th>58542</th>\n",
       "      <td>AZN.ST</td>\n",
       "      <td>&lt;NA&gt;</td>\n",
       "      <td>AstraZeneca PLC</td>\n",
       "      <td>93.881462</td>\n",
       "      <td>A+</td>\n",
       "      <td>2021-01-01</td>\n",
       "    </tr>\n",
       "    <tr>\n",
       "      <th>...</th>\n",
       "      <td>...</td>\n",
       "      <td>...</td>\n",
       "      <td>...</td>\n",
       "      <td>...</td>\n",
       "      <td>...</td>\n",
       "      <td>...</td>\n",
       "    </tr>\n",
       "    <tr>\n",
       "      <th>7556</th>\n",
       "      <td>300418.SZ</td>\n",
       "      <td>&lt;NA&gt;</td>\n",
       "      <td>Beijing Kunlun Tech Co Ltd</td>\n",
       "      <td>0.971407</td>\n",
       "      <td>D-</td>\n",
       "      <td>2021-01-01</td>\n",
       "    </tr>\n",
       "    <tr>\n",
       "      <th>41173</th>\n",
       "      <td>HPCO.BE</td>\n",
       "      <td>&lt;NA&gt;</td>\n",
       "      <td>Hallador Energy Co</td>\n",
       "      <td>0.929299</td>\n",
       "      <td>D-</td>\n",
       "      <td>2021-01-01</td>\n",
       "    </tr>\n",
       "    <tr>\n",
       "      <th>20089</th>\n",
       "      <td>28Y.F</td>\n",
       "      <td>&lt;NA&gt;</td>\n",
       "      <td>High Liner Foods Inc</td>\n",
       "      <td>0.696272</td>\n",
       "      <td>D-</td>\n",
       "      <td>2021-01-01</td>\n",
       "    </tr>\n",
       "    <tr>\n",
       "      <th>36465</th>\n",
       "      <td>CVM.A</td>\n",
       "      <td>&lt;NA&gt;</td>\n",
       "      <td>CEL-SCI Corp</td>\n",
       "      <td>0.532213</td>\n",
       "      <td>D-</td>\n",
       "      <td>2021-01-01</td>\n",
       "    </tr>\n",
       "    <tr>\n",
       "      <th>42813</th>\n",
       "      <td>RBXJ.F</td>\n",
       "      <td>&lt;NA&gt;</td>\n",
       "      <td>Raubex Group Ltd</td>\n",
       "      <td>0.372899</td>\n",
       "      <td>D-</td>\n",
       "      <td>2021-01-01</td>\n",
       "    </tr>\n",
       "  </tbody>\n",
       "</table>\n",
       "<p>16560 rows × 6 columns</p>\n",
       "</div>"
      ],
      "text/plain": [
       "      Instrument Market Identifier Code (MIC)         Company Common Name  \\\n",
       "42283   AZNPy.BE                                          AstraZeneca PLC   \n",
       "48644     AZN.OQ                                          AstraZeneca PLC   \n",
       "39087      AZN.L                         <NA>             AstraZeneca PLC   \n",
       "7059       AZN.S                         <NA>             AstraZeneca PLC   \n",
       "58542     AZN.ST                         <NA>             AstraZeneca PLC   \n",
       "...          ...                          ...                         ...   \n",
       "7556   300418.SZ                         <NA>  Beijing Kunlun Tech Co Ltd   \n",
       "41173    HPCO.BE                         <NA>          Hallador Energy Co   \n",
       "20089      28Y.F                         <NA>        High Liner Foods Inc   \n",
       "36465      CVM.A                         <NA>                CEL-SCI Corp   \n",
       "42813     RBXJ.F                         <NA>            Raubex Group Ltd   \n",
       "\n",
       "       ESG Score ESG Score Grade        date  \n",
       "42283  93.881462              A+  2021-01-01  \n",
       "48644  93.881462              A+  2021-01-01  \n",
       "39087  93.881462              A+  2021-01-01  \n",
       "7059   93.881462              A+  2021-01-01  \n",
       "58542  93.881462              A+  2021-01-01  \n",
       "...          ...             ...         ...  \n",
       "7556    0.971407              D-  2021-01-01  \n",
       "41173   0.929299              D-  2021-01-01  \n",
       "20089   0.696272              D-  2021-01-01  \n",
       "36465   0.532213              D-  2021-01-01  \n",
       "42813   0.372899              D-  2021-01-01  \n",
       "\n",
       "[16560 rows x 6 columns]"
      ]
     },
     "execution_count": 10,
     "metadata": {},
     "output_type": "execute_result"
    }
   ],
   "source": [
    "non_na_ESG_data.sort_values(by=\"ESG Score\", ascending=False)"
   ]
  },
  {
   "cell_type": "code",
   "execution_count": 35,
   "metadata": {
    "collapsed": true,
    "jupyter": {
     "outputs_hidden": true
    },
    "tags": []
   },
   "outputs": [
    {
     "ename": "NameError",
     "evalue": "name 'non_na_ESG_data' is not defined",
     "output_type": "error",
     "traceback": [
      "\u001b[0;31m---------------------------------------------------------------------------\u001b[0m",
      "\u001b[0;31mNameError\u001b[0m                                 Traceback (most recent call last)",
      "\u001b[0;32m<ipython-input-35-17ecb2a7ddca>\u001b[0m in \u001b[0;36m<module>\u001b[0;34m\u001b[0m\n\u001b[0;32m----> 1\u001b[0;31m \u001b[0mnon_na_ESG_data\u001b[0m\u001b[0;34m.\u001b[0m\u001b[0mto_csv\u001b[0m\u001b[0;34m(\u001b[0m\u001b[0;34m\"../data/primary/ESG_Companies.csv\"\u001b[0m\u001b[0;34m,\u001b[0m \u001b[0mindex\u001b[0m\u001b[0;34m=\u001b[0m\u001b[0;32mFalse\u001b[0m\u001b[0;34m)\u001b[0m\u001b[0;34m\u001b[0m\u001b[0;34m\u001b[0m\u001b[0m\n\u001b[0m",
      "\u001b[0;31mNameError\u001b[0m: name 'non_na_ESG_data' is not defined"
     ]
    }
   ],
   "source": [
    "non_na_ESG_data.to_csv(\"../data/primary/ESG_Companies.csv\", index=False)"
   ]
  },
  {
   "cell_type": "code",
   "execution_count": 8,
   "metadata": {},
   "outputs": [],
   "source": [
    "ESG_data = pd.read_csv(\"../data/primary/ESG_Companies.csv\")"
   ]
  },
  {
   "cell_type": "code",
   "execution_count": 9,
   "metadata": {},
   "outputs": [],
   "source": [
    "companies_types = \"\"\"(inc.?|corp.?|ag.?|ab.?|se.?|plc.?|a\\.v\\.v\\..?|i\\.l\\..?|n\\.v\\..?|i\\.l\\..?|limited|ltd.?|s\\.a\\.|llc.?)\"\"\""
   ]
  },
  {
   "cell_type": "code",
   "execution_count": 10,
   "metadata": {},
   "outputs": [],
   "source": [
    "ESG_data[\"Company Common Name\"] = ESG_data[\"Company Common Name\"].apply(lambda x: re.sub(companies_types, \"\", x.lower()).strip())\n",
    "ESG_data[\"Ticker\"] = ESG_data[\"Instrument\"].apply(lambda x:x.split(\".\")[0])\n",
    "ESG_data = ESG_data.drop(columns=\"Instrument\").drop_duplicates()"
   ]
  },
  {
   "cell_type": "markdown",
   "metadata": {},
   "source": [
    "# Wage data"
   ]
  },
  {
   "cell_type": "code",
   "execution_count": 11,
   "metadata": {},
   "outputs": [],
   "source": [
    "# load\n",
    "data_russel = pd.read_excel('../data/scrapped_data.xlsx', sheet_name='PayRatiosRuss')\n",
    "data_sp = pd.read_excel('../data/scrapped_data.xlsx', sheet_name='PayRatiosSP')\n",
    "\n",
    "data_revenue_sp = pd.read_excel('../data/scrapped_data.xlsx', sheet_name=\"CompSP\")\n",
    "data_revenue_russel = pd.read_excel('../data/scrapped_data.xlsx', sheet_name=\"CompRussel\")\n",
    "\n",
    "data_russel.rename(columns={'Pay ratio to 1': 'PayRatio'}, inplace=True)\n",
    "data_sp.rename(columns={'Pay ratio to 1': 'PayRatio'}, inplace=True)\n",
    "\n",
    "# drop useless col\n",
    "data_russel.drop(columns=['Pay RatioSort ascending'], inplace=True)\n",
    "data_sp.drop(columns=['Pay RatioSort ascending'], inplace=True)"
   ]
  },
  {
   "cell_type": "code",
   "execution_count": 12,
   "metadata": {},
   "outputs": [],
   "source": [
    "shape_sp, shape_russel = data_sp.shape, data_russel.shape\n",
    "#\n",
    "data_list = [data_russel, data_revenue_russel, data_sp, data_revenue_sp]\n",
    "\n",
    "# compute minimum annual US salary\n",
    "work_hours_annual = 2080\n",
    "min_wage = 7.25\n",
    "min_salary = min_wage * work_hours_annual\n",
    "\n",
    "# create the columns with median to min ratio\n",
    "data_russel['MedianMinRatio'], data_sp['MedianMinRatio'] = data_russel['MedianAnnualPay'] / min_salary, data_sp[\n",
    "    'MedianAnnualPay'] / min_salary\n",
    "\n"
   ]
  },
  {
   "cell_type": "code",
   "execution_count": 13,
   "metadata": {
    "tags": []
   },
   "outputs": [],
   "source": [
    "# lowercase i strip na nazwach firm\n",
    "data_russel['CompanyLower'] = [str.strip(str.lower(q)) for q in data_russel['Company']]\n",
    "data_sp['CompanyLower'] = [str.strip(str.lower(q)) for q in data_sp['Company']]\n",
    "# data_avg_salaries['CompanyLower'] = [str.strip(str.lower(q)) for q in data_avg_salaries['Company']]\n",
    "data_revenue_sp['CompanyLower'] = [str.strip(str.lower(q)) for q in data_revenue_sp['Company Common Name']]"
   ]
  },
  {
   "cell_type": "code",
   "execution_count": 14,
   "metadata": {
    "tags": []
   },
   "outputs": [],
   "source": [
    "# lowercase i strip na nazwach firm\n",
    "data_russel['CompanyLower'] = [str.strip(str.lower(q)) for q in data_russel['Company']]\n",
    "data_sp['CompanyLower'] = [str.strip(str.lower(q)) for q in data_sp['Company']]\n",
    "# data_avg_salaries['CompanyLower'] = [str.strip(str.lower(q)) for q in data_avg_salaries['Company']]\n",
    "data_revenue_sp['CompanyLower'] = [str.strip(str.lower(q)) for q in data_revenue_sp['Company Common Name']]\n",
    "\n",
    "# drop column\n",
    "# data_avg_salaries.drop('Company', inplace=True, axis=1)\n",
    "data_russel.drop('Company', inplace=True, axis=1)\n",
    "data_sp.drop('Company', inplace=True, axis=1)\n",
    "\n",
    "# cast Tickers to string and sort dataframe\n",
    "for each in data_list:\n",
    "    each['Ticker'] = [str(q) for q in each['Ticker']]\n",
    "    each.sort_values(by='Ticker', inplace=True)\n"
   ]
  },
  {
   "cell_type": "code",
   "execution_count": 15,
   "metadata": {},
   "outputs": [],
   "source": [
    "# merge with data from refinitiv\n",
    "data_russel_no_avg = data_russel.merge(data_revenue_russel, on='Ticker')\n",
    "data_sp_no_avg = data_sp.merge(data_revenue_sp, on='Ticker')\n",
    "\n",
    "# check shapes with duplicates\n",
    "shape_russel_dup = data_russel_no_avg.shape\n",
    "shape_sp_dup = data_sp_no_avg.shape\n",
    "\n",
    "# drop duplicates\n",
    "data_russel_no_avg.drop_duplicates(inplace=True)\n",
    "data_sp_no_avg.drop_duplicates(inplace=True)\n",
    "\n",
    "# check shape after drop\n",
    "shape_russel = data_russel_no_avg.shape\n",
    "shape_sp = data_sp_no_avg.shape\n",
    "\n",
    "#put the data into structure (albeit a trivial one)\n",
    "merged_data_list = [data_russel_no_avg, data_sp_no_avg]"
   ]
  },
  {
   "cell_type": "code",
   "execution_count": 16,
   "metadata": {},
   "outputs": [],
   "source": [
    "#prepare data for topsis\n",
    "data_for_topsis = []\n",
    "\n",
    "for each in merged_data_list:\n",
    "    # compute efficiency wage component\n",
    "    each['Comp/Reve'] = each['Labor Expenses'] / each['Revenue BA']\n",
    "    # inverse pay ratio to get a stimulant\n",
    "    each['PayRatioStim'] = 1 / each['PayRatio']\n",
    "\n",
    "    # cut out the companies with 0 or negative revenues or labour expenses\n",
    "    each = each.loc[(each['Revenue BA'] > 0) & (each['Labor Expenses'] > 0)]\n",
    "\n",
    "    # prepare table for aggregation\n",
    "    table_for_topsis = each[['Ticker', 'MedianAnnualPay', 'PayRatioStim', 'MedianMinRatio', 'Comp/Reve']]\n",
    "\n",
    "\n",
    "    table_for_topsis.set_index('Ticker', drop=True, inplace=True)\n",
    "    data_for_topsis.append(table_for_topsis)\n"
   ]
  },
  {
   "cell_type": "code",
   "execution_count": 17,
   "metadata": {
    "tags": []
   },
   "outputs": [],
   "source": [
    "scaled_data = []\n",
    "\n",
    "for i in range(len(data_for_topsis)):\n",
    "\n",
    "    #\n",
    "    each = data_for_topsis[i]\n",
    "    indeks = data_for_topsis[i].index\n",
    "    columns = data_for_topsis[i].columns\n",
    "\n",
    "    col_list = []\n",
    "\n",
    "    for column in each.columns:\n",
    "\n",
    "        col_to_scale = each[str(column)].values.reshape(-1, 1)\n",
    "        #logarithm on the column to get rid of the outliers\n",
    "        loged_col = np.array([log(q) for q in col_to_scale]).reshape(-1, 1)\n",
    "\n",
    "        #scale by min max formula\n",
    "        transformed = MinMaxScaler().fit_transform(loged_col)\n",
    "\n",
    "        listed_transformed = transformed.reshape(1, -1).tolist()\n",
    "        col_list.append(listed_transformed[0])\n",
    "\n",
    "    #prepare scaled df\n",
    "    scaled_df = pd.DataFrame(col_list).transpose()\n",
    "    scaled_df.index = indeks\n",
    "    scaled_df.columns = columns\n",
    "\n",
    "    scaled_data.append(scaled_df)\n",
    "\n",
    "#look at the data\n",
    "scaled_df_rus = scaled_data[0]\n",
    "scaled_df_sp = scaled_data[1]\n"
   ]
  },
  {
   "cell_type": "code",
   "execution_count": 18,
   "metadata": {
    "tags": []
   },
   "outputs": [],
   "source": [
    "rus_dist_list = []\n",
    "sp_dist_list = []\n",
    "\n",
    "#compute distances separately for russel and sp\n",
    "for i in range(len(scaled_df_rus.index)):\n",
    "    row = scaled_df_rus.iloc[i, :].values\n",
    "\n",
    "    #compute euclidean distance from the best theoretical best object (since we used min max scaler the best one will be (1,1,1,1))\n",
    "    dist = distance.euclidean(np.ndarray([1, 1, 1, 1]), row)\n",
    "    rus_dist_list.append(dist)\n",
    "\n",
    "for i in range(len(scaled_df_sp.index)):\n",
    "    row = scaled_df_sp.iloc[i, :].values\n",
    "\n",
    "    dist = distance.euclidean(np.ndarray([1, 1, 1, 1]), row)\n",
    "    sp_dist_list.append(dist)\n",
    "\n",
    "#prepare distance dfs\n",
    "dist_df_rus = pd.DataFrame(rus_dist_list)\n",
    "dist_df_sp = pd.DataFrame(sp_dist_list)\n",
    "\n",
    "dist_df_rus.index = scaled_df_rus.index\n",
    "dist_df_sp.index = scaled_df_sp.index\n",
    "\n",
    "dist_df_rus.columns = ['Distance']\n",
    "dist_df_sp.columns = ['Distance']\n",
    "\n",
    "#put the dfs in a structure\n",
    "dist_df_list = [dist_df_rus, dist_df_sp]"
   ]
  },
  {
   "cell_type": "code",
   "execution_count": 19,
   "metadata": {},
   "outputs": [],
   "source": [
    "agregate_vars_df_list = []\n",
    "\n",
    "for each in dist_df_list:\n",
    "    #compute avg and std of distances\n",
    "    dist_avg = np.average(each['Distance'])\n",
    "    dist_std = np.std(each['Distance'])\n",
    "\n",
    "    # compute the aggregate variable\n",
    "    agregate_vars = [(1 - (q / dist_avg + (2 * dist_std))) for q in each['Distance']]\n",
    "\n",
    "    #prepare the df\n",
    "    agregate_vars_df = pd.DataFrame(agregate_vars)\n",
    "    agregate_vars_df.index = each.index\n",
    "    agregate_vars_df.columns = ['AggregateValue']\n",
    "\n",
    "    agregate_vars_df_list.append(agregate_vars_df)\n",
    "\n",
    "#prepare final dfs\n",
    "final_rus = agregate_vars_df_list[0]\n",
    "final_sp = agregate_vars_df_list[1]\n",
    "\n",
    "final_rus.reset_index(inplace=True)\n",
    "final_sp.reset_index(inplace=True)\n",
    "\n",
    "#check the shapes (to see if we didnt loose anyone on our way here\n",
    "final_shapes = [final_rus.copy().shape, final_sp.copy().shape]\n",
    "\n",
    "# company_names_sp = data_russel[['Ticker', 'CompanyLower']]\n",
    "# company_names_russel = data_sp[['Ticker', 'CompanyLower']]\n"
   ]
  },
  {
   "cell_type": "code",
   "execution_count": 20,
   "metadata": {},
   "outputs": [],
   "source": [
    "wages_data = final_rus"
   ]
  },
  {
   "cell_type": "code",
   "execution_count": 21,
   "metadata": {},
   "outputs": [],
   "source": [
    "# wages_data = pd.read_csv('../data/wages/fair_wage_index_russel_3000.csv')"
   ]
  },
  {
   "cell_type": "code",
   "execution_count": 22,
   "metadata": {},
   "outputs": [
    {
     "data": {
      "text/html": [
       "<div>\n",
       "<style scoped>\n",
       "    .dataframe tbody tr th:only-of-type {\n",
       "        vertical-align: middle;\n",
       "    }\n",
       "\n",
       "    .dataframe tbody tr th {\n",
       "        vertical-align: top;\n",
       "    }\n",
       "\n",
       "    .dataframe thead th {\n",
       "        text-align: right;\n",
       "    }\n",
       "</style>\n",
       "<table border=\"1\" class=\"dataframe\">\n",
       "  <thead>\n",
       "    <tr style=\"text-align: right;\">\n",
       "      <th></th>\n",
       "      <th>Market Identifier Code (MIC)</th>\n",
       "      <th>Company Common Name</th>\n",
       "      <th>ESG Score</th>\n",
       "      <th>ESG Score Grade</th>\n",
       "      <th>date</th>\n",
       "      <th>Ticker</th>\n",
       "      <th>WagesAggregateValue</th>\n",
       "    </tr>\n",
       "  </thead>\n",
       "  <tbody>\n",
       "    <tr>\n",
       "      <th>0</th>\n",
       "      <td>NaN</td>\n",
       "      <td>finet</td>\n",
       "      <td>50.356719</td>\n",
       "      <td>B-</td>\n",
       "      <td>2021-01-01</td>\n",
       "      <td>FN</td>\n",
       "      <td>-0.830556</td>\n",
       "    </tr>\n",
       "    <tr>\n",
       "      <th>1</th>\n",
       "      <td>NaN</td>\n",
       "      <td>codexis</td>\n",
       "      <td>57.657252</td>\n",
       "      <td>B-</td>\n",
       "      <td>2021-01-01</td>\n",
       "      <td>CDXS</td>\n",
       "      <td>-0.191844</td>\n",
       "    </tr>\n",
       "    <tr>\n",
       "      <th>2</th>\n",
       "      <td>NaN</td>\n",
       "      <td>sps commerce</td>\n",
       "      <td>53.880855</td>\n",
       "      <td>B-</td>\n",
       "      <td>2021-01-01</td>\n",
       "      <td>SPSC</td>\n",
       "      <td>-0.344557</td>\n",
       "    </tr>\n",
       "    <tr>\n",
       "      <th>3</th>\n",
       "      <td>NaN</td>\n",
       "      <td>green dot</td>\n",
       "      <td>28.248551</td>\n",
       "      <td>C-</td>\n",
       "      <td>2021-01-01</td>\n",
       "      <td>GDOT</td>\n",
       "      <td>-0.244501</td>\n",
       "    </tr>\n",
       "    <tr>\n",
       "      <th>4</th>\n",
       "      <td>NaN</td>\n",
       "      <td>neophotonics</td>\n",
       "      <td>25.580474</td>\n",
       "      <td>C-</td>\n",
       "      <td>2021-01-01</td>\n",
       "      <td>NPTN</td>\n",
       "      <td>-0.610388</td>\n",
       "    </tr>\n",
       "    <tr>\n",
       "      <th>...</th>\n",
       "      <td>...</td>\n",
       "      <td>...</td>\n",
       "      <td>...</td>\n",
       "      <td>...</td>\n",
       "      <td>...</td>\n",
       "      <td>...</td>\n",
       "      <td>...</td>\n",
       "    </tr>\n",
       "    <tr>\n",
       "      <th>944</th>\n",
       "      <td>NaN</td>\n",
       "      <td>maxlinear</td>\n",
       "      <td>25.003692</td>\n",
       "      <td>C-</td>\n",
       "      <td>2021-01-01</td>\n",
       "      <td>MXL</td>\n",
       "      <td>-0.276712</td>\n",
       "    </tr>\n",
       "    <tr>\n",
       "      <th>945</th>\n",
       "      <td>NaN</td>\n",
       "      <td>calix</td>\n",
       "      <td>31.664495</td>\n",
       "      <td>C-</td>\n",
       "      <td>2021-01-01</td>\n",
       "      <td>CALX</td>\n",
       "      <td>-0.221678</td>\n",
       "    </tr>\n",
       "    <tr>\n",
       "      <th>946</th>\n",
       "      <td>NaN</td>\n",
       "      <td>first interstate bancsystem</td>\n",
       "      <td>44.353486</td>\n",
       "      <td>C+</td>\n",
       "      <td>2021-01-01</td>\n",
       "      <td>FIBK</td>\n",
       "      <td>-0.336117</td>\n",
       "    </tr>\n",
       "    <tr>\n",
       "      <th>947</th>\n",
       "      <td>NaN</td>\n",
       "      <td>ss&amp;c technologies holdings</td>\n",
       "      <td>18.720073</td>\n",
       "      <td>D+</td>\n",
       "      <td>2021-01-01</td>\n",
       "      <td>SSNC</td>\n",
       "      <td>-0.421993</td>\n",
       "    </tr>\n",
       "    <tr>\n",
       "      <th>948</th>\n",
       "      <td>NaN</td>\n",
       "      <td>chatham lodging trust</td>\n",
       "      <td>53.124950</td>\n",
       "      <td>B-</td>\n",
       "      <td>2021-01-01</td>\n",
       "      <td>CLDT</td>\n",
       "      <td>-0.308568</td>\n",
       "    </tr>\n",
       "  </tbody>\n",
       "</table>\n",
       "<p>949 rows × 7 columns</p>\n",
       "</div>"
      ],
      "text/plain": [
       "    Market Identifier Code (MIC)          Company Common Name  ESG Score  \\\n",
       "0                            NaN                        finet  50.356719   \n",
       "1                            NaN                      codexis  57.657252   \n",
       "2                            NaN                 sps commerce  53.880855   \n",
       "3                            NaN                    green dot  28.248551   \n",
       "4                            NaN                 neophotonics  25.580474   \n",
       "..                           ...                          ...        ...   \n",
       "944                          NaN                    maxlinear  25.003692   \n",
       "945                          NaN                        calix  31.664495   \n",
       "946                          NaN  first interstate bancsystem  44.353486   \n",
       "947                          NaN   ss&c technologies holdings  18.720073   \n",
       "948                          NaN        chatham lodging trust  53.124950   \n",
       "\n",
       "    ESG Score Grade        date Ticker  WagesAggregateValue  \n",
       "0                B-  2021-01-01     FN            -0.830556  \n",
       "1                B-  2021-01-01   CDXS            -0.191844  \n",
       "2                B-  2021-01-01   SPSC            -0.344557  \n",
       "3                C-  2021-01-01   GDOT            -0.244501  \n",
       "4                C-  2021-01-01   NPTN            -0.610388  \n",
       "..              ...         ...    ...                  ...  \n",
       "944              C-  2021-01-01    MXL            -0.276712  \n",
       "945              C-  2021-01-01   CALX            -0.221678  \n",
       "946              C+  2021-01-01   FIBK            -0.336117  \n",
       "947              D+  2021-01-01   SSNC            -0.421993  \n",
       "948              B-  2021-01-01   CLDT            -0.308568  \n",
       "\n",
       "[949 rows x 7 columns]"
      ]
     },
     "execution_count": 22,
     "metadata": {},
     "output_type": "execute_result"
    }
   ],
   "source": [
    "ESG_data = pd.merge(ESG_data, wages_data, on=\"Ticker\", how=\"inner\")\n",
    "\n",
    "ESG_data = ESG_data.rename(columns={\"AggregateValue\":\"WagesAggregateValue\"})\n",
    "ESG_data"
   ]
  },
  {
   "cell_type": "markdown",
   "metadata": {},
   "source": [
    "# Blacklisting\n",
    "\n",
    "### Defence companies anti corruption index"
   ]
  },
  {
   "cell_type": "code",
   "execution_count": 23,
   "metadata": {},
   "outputs": [],
   "source": [
    "with open(\"../data/lists/csv/defence_companies_anti_corruption_index.csv\", \"r\", encoding=\"unicode_escape\") as f:\n",
    "    file = f.readlines()\n",
    "\n",
    "anti_corruption_data = \"\".join(file[5:])\n",
    "\n",
    "with open(\"../data/lists/csv/defence_companies_anti_corruption_index_preprocessed.csv\", \"w\", encoding=\"utf-8\") as f:\n",
    "    f.write(anti_corruption_data)"
   ]
  },
  {
   "cell_type": "code",
   "execution_count": 24,
   "metadata": {
    "tags": []
   },
   "outputs": [],
   "source": [
    "anti_corruption_data = pd.read_csv(\"../data/lists/csv/defence_companies_anti_corruption_index_preprocessed.csv\", header=[0,1,2])"
   ]
  },
  {
   "cell_type": "code",
   "execution_count": 25,
   "metadata": {},
   "outputs": [],
   "source": [
    "anti_corruption_data_filtered = anti_corruption_data[[anti_corruption_data.columns[0], anti_corruption_data.columns[-9]]].copy()\n",
    "anti_corruption_data_filtered.columns = [\"Company Common Name\", \"anti corruption score\"]\n",
    "anti_corruption_data_filtered[\"anti corruption score normalized\"] = anti_corruption_data_filtered[\"anti corruption score\"] / anti_corruption_data_filtered[\"anti corruption score\"].max()\n",
    "\n",
    "list_anti_corruption = anti_corruption_data_filtered[anti_corruption_data_filtered[\"anti corruption score normalized\"]<.5][\"Company Common Name\"]\n",
    "list_anti_corruption = list(map(lambda x: x.lower(), list_anti_corruption))"
   ]
  },
  {
   "cell_type": "code",
   "execution_count": 26,
   "metadata": {},
   "outputs": [
    {
     "data": {
      "text/plain": [
       "940"
      ]
     },
     "execution_count": 26,
     "metadata": {},
     "output_type": "execute_result"
    }
   ],
   "source": [
    "ESG_data = drop_based_on_occurance(ESG_data, variable=\"Company Common Name\", condition=list_anti_corruption)\n",
    "len(ESG_data)"
   ]
  },
  {
   "cell_type": "markdown",
   "metadata": {},
   "source": [
    "### Testing on animals"
   ]
  },
  {
   "cell_type": "code",
   "execution_count": 27,
   "metadata": {},
   "outputs": [],
   "source": [
    "animals_testing = PdfFileReader(open(\"../data/lists/pdf/companies-do-test.pdf\", \"rb\"))"
   ]
  },
  {
   "cell_type": "code",
   "execution_count": 28,
   "metadata": {},
   "outputs": [],
   "source": [
    "text = []\n",
    "for page_idx in range(animals_testing.getNumPages()):\n",
    "    text.append(animals_testing.getPage(page_idx).extractText())"
   ]
  },
  {
   "cell_type": "code",
   "execution_count": 29,
   "metadata": {},
   "outputs": [],
   "source": [
    "animals_testing = \"\".join(text).lower()"
   ]
  },
  {
   "cell_type": "code",
   "execution_count": 30,
   "metadata": {},
   "outputs": [
    {
     "data": {
      "text/plain": [
       "930"
      ]
     },
     "execution_count": 30,
     "metadata": {},
     "output_type": "execute_result"
    }
   ],
   "source": [
    "ESG_data = drop_based_on_occurance(ESG_data, variable=\"Company Common Name\", condition=animals_testing)\n",
    "len(ESG_data)"
   ]
  },
  {
   "cell_type": "markdown",
   "metadata": {},
   "source": [
    "### Fossil fuels"
   ]
  },
  {
   "cell_type": "code",
   "execution_count": 31,
   "metadata": {},
   "outputs": [],
   "source": [
    "fossil_fuels = pd.read_csv(\"../data/lists/csv/fossil-fuels.csv\")\n",
    "\n",
    "fossil_fuels = list(fossil_fuels[\"Company Name\"].apply(lambda x: x.lower()))"
   ]
  },
  {
   "cell_type": "code",
   "execution_count": 32,
   "metadata": {},
   "outputs": [],
   "source": [
    "ESG_data = drop_based_on_occurance(ESG_data, variable=\"Company Common Name\", condition=fossil_fuels)"
   ]
  },
  {
   "cell_type": "code",
   "execution_count": 33,
   "metadata": {},
   "outputs": [
    {
     "data": {
      "text/plain": [
       "900"
      ]
     },
     "execution_count": 33,
     "metadata": {},
     "output_type": "execute_result"
    }
   ],
   "source": [
    "len(ESG_data)"
   ]
  },
  {
   "cell_type": "markdown",
   "metadata": {},
   "source": [
    "# Whitelisting"
   ]
  },
  {
   "cell_type": "markdown",
   "metadata": {},
   "source": [
    "### Working for regulatory change"
   ]
  },
  {
   "cell_type": "code",
   "execution_count": 34,
   "metadata": {},
   "outputs": [],
   "source": [
    "regulatory_change = PdfFileReader(open(\"../data/lists/pdf/companies-working-for-regulatory-change.pdf\", \"rb\"))"
   ]
  },
  {
   "cell_type": "code",
   "execution_count": 35,
   "metadata": {},
   "outputs": [],
   "source": [
    "regulatory_change_text = []\n",
    "for page_idx in range(regulatory_change.getNumPages()):\n",
    "    regulatory_change_text.append(regulatory_change.getPage(page_idx).extractText())"
   ]
  },
  {
   "cell_type": "code",
   "execution_count": 36,
   "metadata": {},
   "outputs": [],
   "source": [
    "regulatory_change = \"\".join(regulatory_change_text).lower()"
   ]
  },
  {
   "cell_type": "code",
   "execution_count": 37,
   "metadata": {},
   "outputs": [
    {
     "data": {
      "text/plain": [
       "0"
      ]
     },
     "execution_count": 37,
     "metadata": {},
     "output_type": "execute_result"
    }
   ],
   "source": [
    "ESG_data[\"regulatory_change\"] = ESG_data[\"Company Common Name\"].apply(lambda x: int(x in regulatory_change))\n",
    "\n",
    "ESG_data[\"regulatory_change\"].sum()"
   ]
  },
  {
   "cell_type": "markdown",
   "metadata": {},
   "source": [
    "### Cruelty free companies"
   ]
  },
  {
   "cell_type": "code",
   "execution_count": 38,
   "metadata": {},
   "outputs": [],
   "source": [
    "cruelty_free = PdfFileReader(open(\"../data/lists/pdf/cruelty-free-companies-united-states.pdf\", \"rb\"))"
   ]
  },
  {
   "cell_type": "code",
   "execution_count": 39,
   "metadata": {},
   "outputs": [],
   "source": [
    "cruelty_free_text = []\n",
    "for page_idx in range(cruelty_free.getNumPages()):\n",
    "    cruelty_free_text.append(cruelty_free.getPage(page_idx).extractText())"
   ]
  },
  {
   "cell_type": "code",
   "execution_count": 40,
   "metadata": {},
   "outputs": [],
   "source": [
    "cruelty_free = \"\".join(cruelty_free_text).lower()"
   ]
  },
  {
   "cell_type": "code",
   "execution_count": 41,
   "metadata": {},
   "outputs": [
    {
     "data": {
      "text/plain": [
       "11"
      ]
     },
     "execution_count": 41,
     "metadata": {},
     "output_type": "execute_result"
    }
   ],
   "source": [
    "ESG_data[\"cruelty_free_list\"] = ESG_data[\"Company Common Name\"].apply(lambda x: int(x in cruelty_free))\n",
    "\n",
    "ESG_data[\"cruelty_free_list\"].sum()"
   ]
  },
  {
   "cell_type": "markdown",
   "metadata": {},
   "source": [
    "# Panama papers"
   ]
  },
  {
   "cell_type": "code",
   "execution_count": 42,
   "metadata": {},
   "outputs": [],
   "source": [
    "files = [x for x in glob.glob(\"../data/paradise_papers/**\", recursive=True) if \"entity\" in x or \"intermediary\" in x]"
   ]
  },
  {
   "cell_type": "code",
   "execution_count": 43,
   "metadata": {},
   "outputs": [],
   "source": [
    "panama_companies = pd.DataFrame(columns=[\"name\"], dtype=str)"
   ]
  },
  {
   "cell_type": "code",
   "execution_count": 44,
   "metadata": {},
   "outputs": [
    {
     "data": {
      "text/plain": [
       "810869"
      ]
     },
     "execution_count": 44,
     "metadata": {},
     "output_type": "execute_result"
    }
   ],
   "source": [
    "for file in files:\n",
    "    temp = pd.read_csv(file, usecols=[\"name\"])\n",
    "    panama_companies = pd.concat([panama_companies, temp])\n",
    "len(panama_companies)"
   ]
  },
  {
   "cell_type": "code",
   "execution_count": 45,
   "metadata": {},
   "outputs": [],
   "source": [
    "panama_companies[\"name\"] = panama_companies[\"name\"].astype(str)\n",
    "\n",
    "panama_companies[\"name\"] = panama_companies[\"name\"].apply(lambda x: re.sub(companies_types, '', x.lower()).strip())\n",
    "\n",
    "panama_companies[\"name\"] = panama_companies[\"name\"].apply(lambda x: re.sub(r'\\([^)]*\\)', '', x.lower()).strip())\n",
    "\n",
    "panama_companies = list(panama_companies.reset_index(drop=True)[\"name\"])"
   ]
  },
  {
   "cell_type": "code",
   "execution_count": 46,
   "metadata": {},
   "outputs": [
    {
     "data": {
      "text/plain": [
       "679"
      ]
     },
     "execution_count": 46,
     "metadata": {},
     "output_type": "execute_result"
    }
   ],
   "source": [
    "ESG_data = drop_based_on_occurance(ESG_data, variable=\"Company Common Name\", condition=panama_companies)\n",
    "ESG_data = ESG_data.reset_index(drop=True)\n",
    "len(ESG_data)"
   ]
  },
  {
   "cell_type": "markdown",
   "metadata": {},
   "source": [
    "# Awards data\n",
    "\n",
    "* [Another list -> environmental awards](https://en.wikipedia.org/wiki/List_of_environmental_awards)\n",
    "\n",
    "\n",
    "* [sentiment](https://developers.refinitiv.com/en/article-catalog/article/introduction-news-sentiment-analysis-eikon-data-apis-python-example)\n",
    "* [sentiment2](https://www.refinitiv.com/perspectives/future-of-investing-trading/news-sentiment-analysis-with-eikon-data-apis/)\n",
    "\n",
    "\n",
    "=================================================\n",
    "<br>Pretrained etc.\n",
    "* [OpenAI](https://github.com/openai/generating-reviews-discovering-sentiment)\n",
    "* [Pytorch implementation](https://github.com/guillitte/pytorch-sentiment-neuron)\n",
    "* [Off shelf](http://nlp.town/blog/off-the-shelf-sentiment-analysis/)\n",
    "* [vader](https://t-redactyl.io/blog/2017/04/using-vader-to-handle-sentiment-analysis-with-social-media-text.html)\n",
    "* [fasttext](https://fasttext.cc/)\n",
    "* [TextBlob](https://medium.com/@b.terryjack/nlp-pre-trained-sentiment-analysis-1eb52a9d742c)\n"
   ]
  },
  {
   "cell_type": "code",
   "execution_count": 47,
   "metadata": {},
   "outputs": [],
   "source": [
    "wiki_awards = wikipedia_awards()\n",
    "\n",
    "scrapped_awards = pd.read_excel(\"../data/scrapped_data.xlsx\", sheet_name=\"awards\", usecols=[0,1,2])\n",
    "\n",
    "scrapped_awards[\"international\"] = scrapped_awards[\"international\"].apply(lambda x: \"I\" in x or \"R\" in x)\n",
    "\n",
    "awards = pd.concat([wiki_awards, scrapped_awards]).drop_duplicates().reset_index(drop=True)\n",
    "awards[\"award\"] = awards[\"award\"].apply(lambda x: x.lower())"
   ]
  },
  {
   "cell_type": "code",
   "execution_count": 48,
   "metadata": {},
   "outputs": [],
   "source": [
    "awards.to_csv(\"../data/awards/awards.csv\", index=False)"
   ]
  },
  {
   "cell_type": "code",
   "execution_count": 49,
   "metadata": {},
   "outputs": [
    {
     "data": {
      "text/html": [
       "<div>\n",
       "<style scoped>\n",
       "    .dataframe tbody tr th:only-of-type {\n",
       "        vertical-align: middle;\n",
       "    }\n",
       "\n",
       "    .dataframe tbody tr th {\n",
       "        vertical-align: top;\n",
       "    }\n",
       "\n",
       "    .dataframe thead th {\n",
       "        text-align: right;\n",
       "    }\n",
       "</style>\n",
       "<table border=\"1\" class=\"dataframe\">\n",
       "  <thead>\n",
       "    <tr style=\"text-align: right;\">\n",
       "      <th></th>\n",
       "      <th>international</th>\n",
       "      <th>country</th>\n",
       "      <th>award</th>\n",
       "    </tr>\n",
       "  </thead>\n",
       "  <tbody>\n",
       "    <tr>\n",
       "      <th>0</th>\n",
       "      <td>True</td>\n",
       "      <td>NaN</td>\n",
       "      <td>applause award</td>\n",
       "    </tr>\n",
       "    <tr>\n",
       "      <th>1</th>\n",
       "      <td>True</td>\n",
       "      <td>NaN</td>\n",
       "      <td>arthur b. guise medal</td>\n",
       "    </tr>\n",
       "    <tr>\n",
       "      <th>2</th>\n",
       "      <td>True</td>\n",
       "      <td>NaN</td>\n",
       "      <td>golden ticket awards</td>\n",
       "    </tr>\n",
       "    <tr>\n",
       "      <th>3</th>\n",
       "      <td>True</td>\n",
       "      <td>NaN</td>\n",
       "      <td>hotelier of the century</td>\n",
       "    </tr>\n",
       "    <tr>\n",
       "      <th>4</th>\n",
       "      <td>True</td>\n",
       "      <td>NaN</td>\n",
       "      <td>seven stars luxury hospitality and lifestyle a...</td>\n",
       "    </tr>\n",
       "    <tr>\n",
       "      <th>...</th>\n",
       "      <td>...</td>\n",
       "      <td>...</td>\n",
       "      <td>...</td>\n",
       "    </tr>\n",
       "    <tr>\n",
       "      <th>659</th>\n",
       "      <td>True</td>\n",
       "      <td>NaN</td>\n",
       "      <td>topgun designation</td>\n",
       "    </tr>\n",
       "    <tr>\n",
       "      <th>660</th>\n",
       "      <td>True</td>\n",
       "      <td>EU</td>\n",
       "      <td>best of european business</td>\n",
       "    </tr>\n",
       "    <tr>\n",
       "      <th>661</th>\n",
       "      <td>True</td>\n",
       "      <td>NaN</td>\n",
       "      <td>public eye on davos</td>\n",
       "    </tr>\n",
       "    <tr>\n",
       "      <th>662</th>\n",
       "      <td>True</td>\n",
       "      <td>EU</td>\n",
       "      <td>100 best workplaces in europe</td>\n",
       "    </tr>\n",
       "    <tr>\n",
       "      <th>663</th>\n",
       "      <td>True</td>\n",
       "      <td>NaN</td>\n",
       "      <td>everywoman awards</td>\n",
       "    </tr>\n",
       "  </tbody>\n",
       "</table>\n",
       "<p>664 rows × 3 columns</p>\n",
       "</div>"
      ],
      "text/plain": [
       "    international country                                              award\n",
       "0            True     NaN                                     applause award\n",
       "1            True     NaN                              arthur b. guise medal\n",
       "2            True     NaN                               golden ticket awards\n",
       "3            True     NaN                            hotelier of the century\n",
       "4            True     NaN  seven stars luxury hospitality and lifestyle a...\n",
       "..            ...     ...                                                ...\n",
       "659          True     NaN                                 topgun designation\n",
       "660          True      EU                          best of european business\n",
       "661          True     NaN                                public eye on davos\n",
       "662          True      EU                      100 best workplaces in europe\n",
       "663          True     NaN                                  everywoman awards\n",
       "\n",
       "[664 rows x 3 columns]"
      ]
     },
     "execution_count": 49,
     "metadata": {},
     "output_type": "execute_result"
    }
   ],
   "source": [
    "awards = pd.read_csv(\"../data/awards/awards.csv\")\n",
    "awards"
   ]
  },
  {
   "cell_type": "code",
   "execution_count": 50,
   "metadata": {},
   "outputs": [
    {
     "data": {
      "text/plain": [
       "466"
      ]
     },
     "execution_count": 50,
     "metadata": {},
     "output_type": "execute_result"
    }
   ],
   "source": [
    "len(awards[awards[\"international\"]==True])"
   ]
  },
  {
   "cell_type": "code",
   "execution_count": 51,
   "metadata": {},
   "outputs": [],
   "source": [
    "ESG_data.to_csv(\"../data/ESG_after_awards.csv\", index=False)"
   ]
  },
  {
   "cell_type": "code",
   "execution_count": 52,
   "metadata": {},
   "outputs": [
    {
     "data": {
      "text/html": [
       "<div>\n",
       "<style scoped>\n",
       "    .dataframe tbody tr th:only-of-type {\n",
       "        vertical-align: middle;\n",
       "    }\n",
       "\n",
       "    .dataframe tbody tr th {\n",
       "        vertical-align: top;\n",
       "    }\n",
       "\n",
       "    .dataframe thead th {\n",
       "        text-align: right;\n",
       "    }\n",
       "</style>\n",
       "<table border=\"1\" class=\"dataframe\">\n",
       "  <thead>\n",
       "    <tr style=\"text-align: right;\">\n",
       "      <th></th>\n",
       "      <th>Market Identifier Code (MIC)</th>\n",
       "      <th>Company Common Name</th>\n",
       "      <th>ESG Score</th>\n",
       "      <th>ESG Score Grade</th>\n",
       "      <th>date</th>\n",
       "      <th>Ticker</th>\n",
       "      <th>WagesAggregateValue</th>\n",
       "      <th>regulatory_change</th>\n",
       "      <th>cruelty_free_list</th>\n",
       "    </tr>\n",
       "  </thead>\n",
       "  <tbody>\n",
       "    <tr>\n",
       "      <th>0</th>\n",
       "      <td>NaN</td>\n",
       "      <td>codexis</td>\n",
       "      <td>57.657252</td>\n",
       "      <td>B-</td>\n",
       "      <td>2021-01-01</td>\n",
       "      <td>CDXS</td>\n",
       "      <td>-0.191844</td>\n",
       "      <td>0</td>\n",
       "      <td>0</td>\n",
       "    </tr>\n",
       "    <tr>\n",
       "      <th>1</th>\n",
       "      <td>NaN</td>\n",
       "      <td>sps commerce</td>\n",
       "      <td>53.880855</td>\n",
       "      <td>B-</td>\n",
       "      <td>2021-01-01</td>\n",
       "      <td>SPSC</td>\n",
       "      <td>-0.344557</td>\n",
       "      <td>0</td>\n",
       "      <td>0</td>\n",
       "    </tr>\n",
       "    <tr>\n",
       "      <th>2</th>\n",
       "      <td>NaN</td>\n",
       "      <td>neophotonics</td>\n",
       "      <td>25.580474</td>\n",
       "      <td>C-</td>\n",
       "      <td>2021-01-01</td>\n",
       "      <td>NPTN</td>\n",
       "      <td>-0.610388</td>\n",
       "      <td>0</td>\n",
       "      <td>0</td>\n",
       "    </tr>\n",
       "    <tr>\n",
       "      <th>3</th>\n",
       "      <td>NaN</td>\n",
       "      <td>first american financial</td>\n",
       "      <td>45.545963</td>\n",
       "      <td>C+</td>\n",
       "      <td>2021-01-01</td>\n",
       "      <td>FAF</td>\n",
       "      <td>-0.397892</td>\n",
       "      <td>0</td>\n",
       "      <td>0</td>\n",
       "    </tr>\n",
       "    <tr>\n",
       "      <th>4</th>\n",
       "      <td>NaN</td>\n",
       "      <td>cboe global markets</td>\n",
       "      <td>47.740064</td>\n",
       "      <td>C+</td>\n",
       "      <td>2021-01-01</td>\n",
       "      <td>CBOE</td>\n",
       "      <td>-0.210807</td>\n",
       "      <td>0</td>\n",
       "      <td>0</td>\n",
       "    </tr>\n",
       "    <tr>\n",
       "      <th>...</th>\n",
       "      <td>...</td>\n",
       "      <td>...</td>\n",
       "      <td>...</td>\n",
       "      <td>...</td>\n",
       "      <td>...</td>\n",
       "      <td>...</td>\n",
       "      <td>...</td>\n",
       "      <td>...</td>\n",
       "      <td>...</td>\n",
       "    </tr>\n",
       "    <tr>\n",
       "      <th>674</th>\n",
       "      <td>NaN</td>\n",
       "      <td>quinstreet</td>\n",
       "      <td>21.663170</td>\n",
       "      <td>D+</td>\n",
       "      <td>2021-01-01</td>\n",
       "      <td>QNST</td>\n",
       "      <td>-0.431739</td>\n",
       "      <td>0</td>\n",
       "      <td>0</td>\n",
       "    </tr>\n",
       "    <tr>\n",
       "      <th>675</th>\n",
       "      <td>NaN</td>\n",
       "      <td>sata technologies holding</td>\n",
       "      <td>59.879600</td>\n",
       "      <td>B</td>\n",
       "      <td>2021-01-01</td>\n",
       "      <td>ST</td>\n",
       "      <td>-0.851722</td>\n",
       "      <td>0</td>\n",
       "      <td>0</td>\n",
       "    </tr>\n",
       "    <tr>\n",
       "      <th>676</th>\n",
       "      <td>NaN</td>\n",
       "      <td>first interstate bancsystem</td>\n",
       "      <td>44.353486</td>\n",
       "      <td>C+</td>\n",
       "      <td>2021-01-01</td>\n",
       "      <td>FIBK</td>\n",
       "      <td>-0.336117</td>\n",
       "      <td>0</td>\n",
       "      <td>0</td>\n",
       "    </tr>\n",
       "    <tr>\n",
       "      <th>677</th>\n",
       "      <td>NaN</td>\n",
       "      <td>ss&amp;c technologies holdings</td>\n",
       "      <td>18.720073</td>\n",
       "      <td>D+</td>\n",
       "      <td>2021-01-01</td>\n",
       "      <td>SSNC</td>\n",
       "      <td>-0.421993</td>\n",
       "      <td>0</td>\n",
       "      <td>0</td>\n",
       "    </tr>\n",
       "    <tr>\n",
       "      <th>678</th>\n",
       "      <td>NaN</td>\n",
       "      <td>chatham lodging trust</td>\n",
       "      <td>53.124950</td>\n",
       "      <td>B-</td>\n",
       "      <td>2021-01-01</td>\n",
       "      <td>CLDT</td>\n",
       "      <td>-0.308568</td>\n",
       "      <td>0</td>\n",
       "      <td>0</td>\n",
       "    </tr>\n",
       "  </tbody>\n",
       "</table>\n",
       "<p>679 rows × 9 columns</p>\n",
       "</div>"
      ],
      "text/plain": [
       "    Market Identifier Code (MIC)          Company Common Name  ESG Score  \\\n",
       "0                            NaN                      codexis  57.657252   \n",
       "1                            NaN                 sps commerce  53.880855   \n",
       "2                            NaN                 neophotonics  25.580474   \n",
       "3                            NaN     first american financial  45.545963   \n",
       "4                            NaN          cboe global markets  47.740064   \n",
       "..                           ...                          ...        ...   \n",
       "674                          NaN                   quinstreet  21.663170   \n",
       "675                          NaN    sata technologies holding  59.879600   \n",
       "676                          NaN  first interstate bancsystem  44.353486   \n",
       "677                          NaN   ss&c technologies holdings  18.720073   \n",
       "678                          NaN        chatham lodging trust  53.124950   \n",
       "\n",
       "    ESG Score Grade        date Ticker  WagesAggregateValue  \\\n",
       "0                B-  2021-01-01   CDXS            -0.191844   \n",
       "1                B-  2021-01-01   SPSC            -0.344557   \n",
       "2                C-  2021-01-01   NPTN            -0.610388   \n",
       "3                C+  2021-01-01    FAF            -0.397892   \n",
       "4                C+  2021-01-01   CBOE            -0.210807   \n",
       "..              ...         ...    ...                  ...   \n",
       "674              D+  2021-01-01   QNST            -0.431739   \n",
       "675               B  2021-01-01     ST            -0.851722   \n",
       "676              C+  2021-01-01   FIBK            -0.336117   \n",
       "677              D+  2021-01-01   SSNC            -0.421993   \n",
       "678              B-  2021-01-01   CLDT            -0.308568   \n",
       "\n",
       "     regulatory_change  cruelty_free_list  \n",
       "0                    0                  0  \n",
       "1                    0                  0  \n",
       "2                    0                  0  \n",
       "3                    0                  0  \n",
       "4                    0                  0  \n",
       "..                 ...                ...  \n",
       "674                  0                  0  \n",
       "675                  0                  0  \n",
       "676                  0                  0  \n",
       "677                  0                  0  \n",
       "678                  0                  0  \n",
       "\n",
       "[679 rows x 9 columns]"
      ]
     },
     "execution_count": 52,
     "metadata": {},
     "output_type": "execute_result"
    }
   ],
   "source": [
    "ESG_data"
   ]
  },
  {
   "cell_type": "code",
   "execution_count": null,
   "metadata": {},
   "outputs": [],
   "source": []
  }
 ],
 "metadata": {
  "kernelspec": {
   "display_name": "esg_ai",
   "language": "python",
   "name": "esg_ai"
  },
  "language_info": {
   "codemirror_mode": {
    "name": "ipython",
    "version": 3
   },
   "file_extension": ".py",
   "mimetype": "text/x-python",
   "name": "python",
   "nbconvert_exporter": "python",
   "pygments_lexer": "ipython3",
   "version": "3.9.0+"
  },
  "widgets": {
   "application/vnd.jupyter.widget-state+json": {
    "state": {},
    "version_major": 2,
    "version_minor": 0
   }
  }
 },
 "nbformat": 4,
 "nbformat_minor": 4
}
